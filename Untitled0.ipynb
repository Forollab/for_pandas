{
  "nbformat": 4,
  "nbformat_minor": 0,
  "metadata": {
    "colab": {
      "provenance": []
    },
    "kernelspec": {
      "name": "python3",
      "display_name": "Python 3"
    },
    "language_info": {
      "name": "python"
    }
  },
  "cells": [
    {
      "cell_type": "code",
      "execution_count": 23,
      "metadata": {
        "id": "IxHU8jNsySSX"
      },
      "outputs": [],
      "source": [
        "import pandas as pd\n",
        "import datetime\n",
        "import numpy as np\n",
        "import matplotlib"
      ]
    },
    {
      "cell_type": "code",
      "source": [
        "data_frame_1 = pd.read_csv(\"/content/sample_data/california_housing_test.csv\")\n",
        "print(data_frame_1)"
      ],
      "metadata": {
        "colab": {
          "base_uri": "https://localhost:8080/"
        },
        "id": "CFaqX3H1z9LJ",
        "outputId": "63ca4139-3f27-4220-a30d-14ac06b80b57"
      },
      "execution_count": 17,
      "outputs": [
        {
          "output_type": "stream",
          "name": "stdout",
          "text": [
            "      longitude  latitude  housing_median_age  total_rooms  total_bedrooms  \\\n",
            "0       -122.05     37.37                27.0       3885.0           661.0   \n",
            "1       -118.30     34.26                43.0       1510.0           310.0   \n",
            "2       -117.81     33.78                27.0       3589.0           507.0   \n",
            "3       -118.36     33.82                28.0         67.0            15.0   \n",
            "4       -119.67     36.33                19.0       1241.0           244.0   \n",
            "...         ...       ...                 ...          ...             ...   \n",
            "2995    -119.86     34.42                23.0       1450.0           642.0   \n",
            "2996    -118.14     34.06                27.0       5257.0          1082.0   \n",
            "2997    -119.70     36.30                10.0        956.0           201.0   \n",
            "2998    -117.12     34.10                40.0         96.0            14.0   \n",
            "2999    -119.63     34.42                42.0       1765.0           263.0   \n",
            "\n",
            "      population  households  median_income  median_house_value  \n",
            "0         1537.0       606.0         6.6085            344700.0  \n",
            "1          809.0       277.0         3.5990            176500.0  \n",
            "2         1484.0       495.0         5.7934            270500.0  \n",
            "3           49.0        11.0         6.1359            330000.0  \n",
            "4          850.0       237.0         2.9375             81700.0  \n",
            "...          ...         ...            ...                 ...  \n",
            "2995      1258.0       607.0         1.1790            225000.0  \n",
            "2996      3496.0      1036.0         3.3906            237200.0  \n",
            "2997       693.0       220.0         2.2895             62000.0  \n",
            "2998        46.0        14.0         3.2708            162500.0  \n",
            "2999       753.0       260.0         8.5608            500001.0  \n",
            "\n",
            "[3000 rows x 9 columns]\n"
          ]
        }
      ]
    },
    {
      "cell_type": "code",
      "source": [
        "#вывод отдельного столбца\n",
        "data_frame_1.population\n",
        "#вывод отдельного значения в отдельном series \n",
        "data_frame_1.total_rooms[3]"
      ],
      "metadata": {
        "colab": {
          "base_uri": "https://localhost:8080/"
        },
        "id": "5g6SBlyJ0mQ6",
        "outputId": "0e0cb87c-a39b-431a-e791-21876d38662b"
      },
      "execution_count": 16,
      "outputs": [
        {
          "output_type": "execute_result",
          "data": {
            "text/plain": [
              "67.0"
            ]
          },
          "metadata": {},
          "execution_count": 16
        }
      ]
    },
    {
      "cell_type": "code",
      "source": [
        "print(type(data_frame_1.total_rooms[3]))"
      ],
      "metadata": {
        "id": "Q_AFhTRJ1oeR"
      },
      "execution_count": null,
      "outputs": []
    },
    {
      "cell_type": "code",
      "source": [
        "#Срез значений по строкам \n",
        "print(data_frame_1[10:25:2])\n",
        "#Срез значений по строкам в Series \n",
        "print(data_frame_1.total_rooms[10:25:2])\n"
      ],
      "metadata": {
        "id": "1GLG57qS1sIA"
      },
      "execution_count": null,
      "outputs": []
    },
    {
      "cell_type": "code",
      "source": [
        "data_frame_1.population.plot()"
      ],
      "metadata": {
        "colab": {
          "base_uri": "https://localhost:8080/",
          "height": 282
        },
        "id": "EQS3TGDM2Jpt",
        "outputId": "a4841d42-484e-442d-aef0-b72b12ff08d3"
      },
      "execution_count": 21,
      "outputs": [
        {
          "output_type": "execute_result",
          "data": {
            "text/plain": [
              "<matplotlib.axes._subplots.AxesSubplot at 0x7f04ac385990>"
            ]
          },
          "metadata": {},
          "execution_count": 21
        },
        {
          "output_type": "display_data",
          "data": {
            "text/plain": [
              "<Figure size 432x288 with 1 Axes>"
            ],
            "image/png": "[encoded data removed]"
          },
          "metadata": {
            "needs_background": "light"
          }
        }
      ]
    },
    {
      "cell_type": "markdown",
      "source": [
        "Создание объектов с помощью numpy"
      ],
      "metadata": {
        "id": "RPcAg-vF3YXG"
      }
    },
    {
      "cell_type": "code",
      "source": [
        "pd.Series(np.arange(5,27))"
      ],
      "metadata": {
        "id": "UkbPBO5M3eji"
      },
      "execution_count": null,
      "outputs": []
    },
    {
      "cell_type": "code",
      "source": [
        "l = np.arange(0, 100)\n",
        "print(type(l))\n",
        "for i in range(len(l)): #оно итерируется даже:)\n",
        "  print(l[i])\n",
        "  "
      ],
      "metadata": {
        "id": "G5D6YuhH4Rh4"
      },
      "execution_count": null,
      "outputs": []
    },
    {
      "cell_type": "code",
      "source": [
        "series_lins = pd.Series(np.linspace(12, 26, 7))\n",
        "print(series_lins) #создать последовательность 7 чисел межу 12 и 26"
      ],
      "metadata": {
        "id": "RbJThEEo4twa"
      },
      "execution_count": null,
      "outputs": []
    },
    {
      "cell_type": "code",
      "source": [
        "series_ramdom = np.random.seed(12345) #генератор случайных чисел\n",
        "series_ramdom\n",
        "pd.Series(np.random.normal(size=5))#создать Series из 5 нормально распределенных случайных чисел\n"
      ],
      "metadata": {
        "id": "GopybB0A5Ol3"
      },
      "execution_count": null,
      "outputs": []
    }
  ]
}