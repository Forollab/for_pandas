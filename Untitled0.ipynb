{
  "nbformat": 4,
  "nbformat_minor": 0,
  "metadata": {
    "colab": {
      "provenance": []
    },
    "kernelspec": {
      "name": "python3",
      "display_name": "Python 3"
    },
    "language_info": {
      "name": "python"
    }
  },
  "cells": [
    {
      "cell_type": "code",
      "execution_count": 4,
      "metadata": {
        "id": "4p9ZVNuSwIIb"
      },
      "outputs": [],
      "source": [
        "import pandas as pd#подключение библиотеки pandas\n",
        "import datetime #для работы с датами и временем"
      ]
    },
    {
      "cell_type": "code",
      "source": [
        "the_series = pd.Series([1,2,3,4,5])\n",
        "print(the_series)"
      ],
      "metadata": {
        "id": "wrKBagygxYC4"
      },
      "execution_count": null,
      "outputs": []
    },
    {
      "cell_type": "code",
      "source": [
        "#Вывод отдельных элементов\n",
        "print(the_series[1]) # >>> 2, т.к. нумерация начинается с нуля\n",
        "print(the_series[1], the_series[4])\n",
        "the_series[[1, 4]]#возвращае SERIES с элементами 1, 4"
      ],
      "metadata": {
        "id": "I0vxSLm-y-jH"
      },
      "execution_count": null,
      "outputs": []
    },
    {
      "cell_type": "code",
      "source": [
        "# Создаем Series, задавая индекс в явном виде\n",
        "the_second_series = pd.Series([\"One\", \"Two\", \"Three\", \"Four\", \"Five\"], \n",
        "                              index=[\"I\", \"II\", \"III\", \"IV\", \"V\"])\n",
        "print(the_second_series)\n"
      ],
      "metadata": {
        "id": "jlUe_Ox_zTCm"
      },
      "execution_count": null,
      "outputs": []
    },
    {
      "cell_type": "code",
      "source": [
        "#Штуки всякие\n",
        "slova = \"QWERTY\"\n",
        "the_third_series = pd.Series([i for i in range(2, 13, 2)], \n",
        "                             index = [i for i in slova])\n",
        "print(the_third_series)\n",
        "print(the_third_series.index)"
      ],
      "metadata": {
        "id": "OFbQZc040ZeN"
      },
      "execution_count": null,
      "outputs": []
    },
    {
      "cell_type": "code",
      "source": [
        "import datetime as dt\n",
        "the_dates = pd.date_range(\"2005-10-17\", \"2022-09-26\")#пипец я старый:(\n",
        "print(the_dates)"
      ],
      "metadata": {
        "colab": {
          "base_uri": "https://localhost:8080/"
        },
        "id": "INXI4iI314ER",
        "outputId": "4bbaab94-c862-4c7b-d6e6-923e7ee9c3bc"
      },
      "execution_count": 33,
      "outputs": [
        {
          "output_type": "stream",
          "name": "stdout",
          "text": [
            "DatetimeIndex(['2005-10-17', '2005-10-18', '2005-10-19', '2005-10-20',\n",
            "               '2005-10-21', '2005-10-22', '2005-10-23', '2005-10-24',\n",
            "               '2005-10-25', '2005-10-26',\n",
            "               ...\n",
            "               '2022-09-17', '2022-09-18', '2022-09-19', '2022-09-20',\n",
            "               '2022-09-21', '2022-09-22', '2022-09-23', '2022-09-24',\n",
            "               '2022-09-25', '2022-09-26'],\n",
            "              dtype='datetime64[ns]', length=6189, freq='D')\n"
          ]
        }
      ]
    }
  ]
}