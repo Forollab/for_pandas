{
  "nbformat": 4,
  "nbformat_minor": 0,
  "metadata": {
    "colab": {
      "provenance": [],
      "collapsed_sections": []
    },
    "kernelspec": {
      "name": "python3",
      "display_name": "Python 3"
    },
    "language_info": {
      "name": "python"
    }
  },
  "cells": [
    {
      "cell_type": "code",
      "execution_count": 2,
      "metadata": {
        "id": "cMHblsp62vhO"
      },
      "outputs": [],
      "source": [
        "import pandas as pd\n",
        "import numpy as np\n",
        "import matplotlib.pyplot as plt"
      ]
    },
    {
      "cell_type": "code",
      "source": [
        "the_file = pd.read_csv(\"/content/sample_data/california_housing_test.csv\")\n",
        "the_file\n"
      ],
      "metadata": {
        "id": "DGDA7qEx3DD3"
      },
      "execution_count": null,
      "outputs": []
    },
    {
      "cell_type": "code",
      "source": [
        "the_frame = pd.DataFrame(the_file)\n",
        "the_frame"
      ],
      "metadata": {
        "id": "yga8LvBm4k8M"
      },
      "execution_count": null,
      "outputs": []
    },
    {
      "cell_type": "code",
      "source": [
        "print(the_frame[\"total_rooms\"].head()) #Вывод первых 5 записей из указанного Series \n",
        "print(the_frame.head()) #Вывод первых 5 записей во всем фрейме  \n",
        "print(the_frame[\"total_rooms\"].tail()) #Вывод последних 5 записей из указанного Series\n",
        "print(the_frame[[\"total_rooms\", \"total_bedrooms\"]].head())"
      ],
      "metadata": {
        "id": "8MdhnYPZ4yvJ"
      },
      "execution_count": null,
      "outputs": []
    },
    {
      "cell_type": "code",
      "source": [
        "print(the_frame.loc[2525]) #Вывести строку с индексом 2525\n",
        "print(the_frame.loc[[2997, 2999]]) #вывод строк с указанными индексами (2997, 2999). ДВОЙНЫЕ КВАДРАТНЫЕ СКОБКИ\n",
        "\n",
        "print(the_frame.iloc[1]) #Вывести строку по принудительному цифровому индексу\n",
        "#loc -- по индексу, даже есои буквенный или строковый \n",
        "#iloc -- принудительно нумеруеот (от 0), выводит по номеру строки\n"
      ],
      "metadata": {
        "id": "NSYgwAXP40fQ"
      },
      "execution_count": null,
      "outputs": []
    },
    {
      "cell_type": "code",
      "source": [
        "print(the_frame.at[4, \"latitude\"]) #Вывод содержимого ячейки на координатах a, b: a - номер строки, b - название серии\n",
        "print(the_frame.iat[4, 1]) #Принудительная нумерация строк и серий, вывод содержимого скалярной ячейки\n"
      ],
      "metadata": {
        "id": "uHzW3ap-8OZs"
      },
      "execution_count": null,
      "outputs": []
    },
    {
      "cell_type": "code",
      "source": [
        "print(the_frame.total_rooms>2000) #Проверка содержимого ячеек серии total_rooms на > 2000\n",
        "print(the_frame[the_frame.total_rooms > 15000])#Вывод строк, где total_rooms > 15000"
      ],
      "metadata": {
        "id": "yp9XnwL29m1j"
      },
      "execution_count": null,
      "outputs": []
    },
    {
      "cell_type": "code",
      "source": [],
      "metadata": {
        "id": "VnFF8qMP-3DN"
      },
      "execution_count": null,
      "outputs": []
    }
  ]
}